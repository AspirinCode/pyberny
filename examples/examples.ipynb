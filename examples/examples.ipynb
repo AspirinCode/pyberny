{
 "cells": [
  {
   "cell_type": "code",
   "execution_count": 1,
   "metadata": {
    "collapsed": true
   },
   "outputs": [],
   "source": [
    "from berny import optimize, geomlib\n",
    "import numpy as np\n",
    "\n",
    "# experimental geometry\n",
    "ethanol = geomlib.loads(\"\"\"\\\n",
    "9\n",
    "\n",
    "C\t1.1879\t-0.3829\t0.0000\n",
    "C\t0.0000\t0.5526\t0.0000\n",
    "O\t-1.1867\t-0.2472\t0.0000\n",
    "H\t-1.9237\t0.3850\t0.0000\n",
    "H\t2.0985\t0.2306\t0.0000\n",
    "H\t1.1184\t-1.0093\t0.8869\n",
    "H\t1.1184\t-1.0093\t-0.8869\n",
    "H\t-0.0227\t1.1812\t0.8852\n",
    "H\t-0.0227\t1.1812\t-0.8852\n",
    "\"\"\", 'xyz')"
   ]
  },
  {
   "cell_type": "code",
   "execution_count": 2,
   "metadata": {},
   "outputs": [
    {
     "name": "stdout",
     "output_type": "stream",
     "text": [
      "1 Energy: -22.8594935081\n",
      "2 Energy: -22.8624368355\n",
      "3 Energy: -22.8626690971\n",
      "4 Energy: -22.8627117274\n",
      "5 Energy: -22.8627187099\n",
      "5 * All criteria matched\n"
     ]
    }
   ],
   "source": [
    "from berny.solvers import MopacSolver\n",
    "\n",
    "solver = MopacSolver()\n",
    "final = optimize(solver, ethanol, steprms=0.01, stepmax=0.05)"
   ]
  },
  {
   "cell_type": "code",
   "execution_count": 3,
   "metadata": {},
   "outputs": [
    {
     "data": {
      "text/plain": [
       "(array([ 14.32256421,  53.51556794,  61.50783216]),\n",
       " array([ 14.94631996,  52.57923497,  61.10485584]))"
      ]
     },
     "execution_count": 3,
     "metadata": {},
     "output_type": "execute_result"
    }
   ],
   "source": [
    "np.linalg.eigvalsh(ethanol.inertia), np.linalg.eigvalsh(final.inertia)"
   ]
  },
  {
   "cell_type": "code",
   "execution_count": 4,
   "metadata": {},
   "outputs": [
    {
     "name": "stderr",
     "output_type": "stream",
     "text": [
      "Warn: Ipython shell catchs sys.args\n"
     ]
    },
    {
     "name": "stdout",
     "output_type": "stream",
     "text": [
      "1 Energy: -153.123690366\n",
      "2 Energy: -153.135604418\n",
      "3 Energy: -153.136206465\n",
      "4 Energy: -153.136286277\n",
      "5 Energy: -153.13629241\n",
      "6 Energy: -153.13629286\n",
      "6 * All criteria matched\n"
     ]
    }
   ],
   "source": [
    "from pyscf import gto, dft\n",
    "from pyscf.geomopt.berny_solver import as_berny_solver\n",
    "\n",
    "mf = dft.RKS(gto.M(atom=list(ethanol), basis='3-21g', verbose=0))\n",
    "mf.xc = 'pbe'\n",
    "solver = as_berny_solver(mf)\n",
    "final = optimize(solver, ethanol)"
   ]
  },
  {
   "cell_type": "code",
   "execution_count": 5,
   "metadata": {},
   "outputs": [
    {
     "data": {
      "text/plain": [
       "(array([ 14.32256421,  53.51556794,  61.50783216]),\n",
       " array([ 15.97211705,  56.93024039,  66.279842  ]))"
      ]
     },
     "execution_count": 5,
     "metadata": {},
     "output_type": "execute_result"
    }
   ],
   "source": [
    "np.linalg.eigvalsh(ethanol.inertia), np.linalg.eigvalsh(final.inertia)"
   ]
  },
  {
   "cell_type": "code",
   "execution_count": 6,
   "metadata": {},
   "outputs": [
    {
     "name": "stdout",
     "output_type": "stream",
     "text": [
      "0 Internal coordinates:\n",
      "0 * Number of fragments: 1\n",
      "0 * Number of internal coordinates: 33\n",
      "0 * Number of strong bonds: 8\n",
      "0 * Number of strong angles: 13\n",
      "0 * Number of strong dihedrals: 12\n",
      "1 Energy: -22.8594935081\n",
      "1 Pure RFO step was performed:\n",
      "1 * Trust radius: 0.3\n",
      "1 * Number of negative eigenvalues: 0\n",
      "1 * Lowest eigenvalue: 0.00561\n",
      "1 * lambda: -0.00653\n",
      "1 Quadratic step: RMS: 0.0316, max: 0.0913\n",
      "1 * Predicted energy change: -0.00337\n",
      "1 Total step: RMS: 0.0316, max: 0.0913\n",
      "1 Transformation did not converge in 20 iterations\n",
      "1 * RMS(dcart): 0.0322, RMS(dq): 0.0331\n",
      "1 Convergence criteria:\n",
      "1 * Gradient RMS: 0.00576 > 0.0003 => no\n",
      "1 * Gradient maximum: 0.0103 > 0.00045 => no\n",
      "1 * Step RMS: 0.0331 > 0.0012 => no\n",
      "1 * Step maximum: 0.0899 > 0.0018 => no\n",
      "2 Energy: -22.8624368355\n",
      "2 Hessian update information:\n",
      "2 * Change: RMS: 0.00295, max: 0.0317\n",
      "2 Trust update: Fletcher's parameter: 0.873\n",
      "2 Linear interpolation:\n",
      "2 * Energies: -22.862437, -22.859494\n",
      "2 * Derivatives: -0.000609, 0.00669\n",
      "2 * Quartic interpolation was performed: t = 0.0899\n",
      "2 * Interpolated energy: -22.862464\n",
      "2 Pure RFO step was performed:\n",
      "2 * Trust radius: 0.3\n",
      "2 * Number of negative eigenvalues: 0\n",
      "2 * Lowest eigenvalue: 0.00561\n",
      "2 * lambda: -0.000327\n",
      "2 Quadratic step: RMS: 0.00581, max: 0.0156\n",
      "2 * Predicted energy change: -0.000164\n",
      "2 Total step: RMS: 0.00556, max: 0.0161\n",
      "2 Transformation did not converge in 20 iterations\n",
      "2 * RMS(dcart): 0.00522, RMS(dq): 0.00543\n",
      "2 Convergence criteria:\n",
      "2 * Gradient RMS: 0.00324 > 0.0003 => no\n",
      "2 * Gradient maximum: 0.0103 > 0.00045 => no\n",
      "2 * Step RMS: 0.00543 > 0.0012 => no\n",
      "2 * Step maximum: 0.0161 > 0.0018 => no\n",
      "2 Maximum number of steps reached\n"
     ]
    },
    {
     "data": {
      "text/plain": [
       "<Molecule 'C2H6O'>"
      ]
     },
     "execution_count": 6,
     "metadata": {},
     "output_type": "execute_result"
    }
   ],
   "source": [
    "# verosity=0 for more detailed log\n",
    "optimize(MopacSolver(), ethanol, maxsteps=2, verbosity=0)"
   ]
  }
 ],
 "metadata": {
  "kernelspec": {
   "display_name": "Python 3",
   "language": "python",
   "name": "python3"
  },
  "language_info": {
   "codemirror_mode": {
    "name": "ipython",
    "version": 3
   },
   "file_extension": ".py",
   "mimetype": "text/x-python",
   "name": "python",
   "nbconvert_exporter": "python",
   "pygments_lexer": "ipython3",
   "version": "3.6.1"
  }
 },
 "nbformat": 4,
 "nbformat_minor": 2
}
